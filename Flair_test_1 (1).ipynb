{
  "cells": [
    {
      "cell_type": "code",
      "execution_count": null,
      "metadata": {
        "colab": {
          "base_uri": "https://localhost:8080/"
        },
        "id": "8TTbXJLdGT7Z",
        "outputId": "cd400361-16b6-4263-d532-2e416070d535"
      },
      "outputs": [
        {
          "output_type": "stream",
          "name": "stdout",
          "text": [
            "Looking in indexes: https://pypi.org/simple, https://us-python.pkg.dev/colab-wheels/public/simple/\n",
            "Requirement already satisfied: flair in /usr/local/lib/python3.7/dist-packages (0.11.3)\n",
            "Requirement already satisfied: janome in /usr/local/lib/python3.7/dist-packages (from flair) (0.4.2)\n",
            "Requirement already satisfied: ftfy in /usr/local/lib/python3.7/dist-packages (from flair) (6.1.1)\n",
            "Requirement already satisfied: regex in /usr/local/lib/python3.7/dist-packages (from flair) (2022.6.2)\n",
            "Requirement already satisfied: pptree in /usr/local/lib/python3.7/dist-packages (from flair) (3.1)\n",
            "Requirement already satisfied: segtok>=1.5.7 in /usr/local/lib/python3.7/dist-packages (from flair) (1.5.11)\n",
            "Requirement already satisfied: wikipedia-api in /usr/local/lib/python3.7/dist-packages (from flair) (0.5.4)\n",
            "Requirement already satisfied: huggingface-hub in /usr/local/lib/python3.7/dist-packages (from flair) (0.8.1)\n",
            "Requirement already satisfied: transformers>=4.0.0 in /usr/local/lib/python3.7/dist-packages (from flair) (4.20.1)\n",
            "Requirement already satisfied: tqdm>=4.26.0 in /usr/local/lib/python3.7/dist-packages (from flair) (4.64.0)\n",
            "Requirement already satisfied: sentencepiece==0.1.95 in /usr/local/lib/python3.7/dist-packages (from flair) (0.1.95)\n",
            "Requirement already satisfied: langdetect in /usr/local/lib/python3.7/dist-packages (from flair) (1.0.9)\n",
            "Requirement already satisfied: hyperopt>=0.2.7 in /usr/local/lib/python3.7/dist-packages (from flair) (0.2.7)\n",
            "Requirement already satisfied: matplotlib>=2.2.3 in /usr/local/lib/python3.7/dist-packages (from flair) (3.2.2)\n",
            "Requirement already satisfied: mpld3==0.3 in /usr/local/lib/python3.7/dist-packages (from flair) (0.3)\n",
            "Requirement already satisfied: sqlitedict>=1.6.0 in /usr/local/lib/python3.7/dist-packages (from flair) (2.0.0)\n",
            "Requirement already satisfied: more-itertools in /usr/local/lib/python3.7/dist-packages (from flair) (8.13.0)\n",
            "Requirement already satisfied: deprecated>=1.2.4 in /usr/local/lib/python3.7/dist-packages (from flair) (1.2.13)\n",
            "Requirement already satisfied: tabulate in /usr/local/lib/python3.7/dist-packages (from flair) (0.8.9)\n",
            "Requirement already satisfied: lxml in /usr/local/lib/python3.7/dist-packages (from flair) (4.2.6)\n",
            "Requirement already satisfied: gensim>=3.4.0 in /usr/local/lib/python3.7/dist-packages (from flair) (3.6.0)\n",
            "Requirement already satisfied: torch!=1.8,>=1.5.0 in /usr/local/lib/python3.7/dist-packages (from flair) (1.11.0+cu113)\n",
            "Requirement already satisfied: conllu>=4.0 in /usr/local/lib/python3.7/dist-packages (from flair) (4.4.2)\n",
            "Requirement already satisfied: konoha<5.0.0,>=4.0.0 in /usr/local/lib/python3.7/dist-packages (from flair) (4.6.5)\n",
            "Requirement already satisfied: gdown==4.4.0 in /usr/local/lib/python3.7/dist-packages (from flair) (4.4.0)\n",
            "Requirement already satisfied: python-dateutil>=2.6.1 in /usr/local/lib/python3.7/dist-packages (from flair) (2.8.2)\n",
            "Requirement already satisfied: bpemb>=0.3.2 in /usr/local/lib/python3.7/dist-packages (from flair) (0.3.3)\n",
            "Requirement already satisfied: scikit-learn>=0.21.3 in /usr/local/lib/python3.7/dist-packages (from flair) (1.0.2)\n",
            "Requirement already satisfied: requests[socks] in /usr/local/lib/python3.7/dist-packages (from gdown==4.4.0->flair) (2.28.1)\n",
            "Requirement already satisfied: six in /usr/local/lib/python3.7/dist-packages (from gdown==4.4.0->flair) (1.15.0)\n",
            "Requirement already satisfied: filelock in /usr/local/lib/python3.7/dist-packages (from gdown==4.4.0->flair) (3.7.1)\n",
            "Requirement already satisfied: beautifulsoup4 in /usr/local/lib/python3.7/dist-packages (from gdown==4.4.0->flair) (4.6.3)\n",
            "Requirement already satisfied: numpy in /usr/local/lib/python3.7/dist-packages (from bpemb>=0.3.2->flair) (1.21.6)\n",
            "Requirement already satisfied: wrapt<2,>=1.10 in /usr/local/lib/python3.7/dist-packages (from deprecated>=1.2.4->flair) (1.14.1)\n",
            "Requirement already satisfied: smart-open>=1.2.1 in /usr/local/lib/python3.7/dist-packages (from gensim>=3.4.0->flair) (5.2.1)\n",
            "Requirement already satisfied: scipy>=0.18.1 in /usr/local/lib/python3.7/dist-packages (from gensim>=3.4.0->flair) (1.4.1)\n",
            "Requirement already satisfied: future in /usr/local/lib/python3.7/dist-packages (from hyperopt>=0.2.7->flair) (0.16.0)\n",
            "Requirement already satisfied: py4j in /usr/local/lib/python3.7/dist-packages (from hyperopt>=0.2.7->flair) (0.10.9.5)\n",
            "Requirement already satisfied: cloudpickle in /usr/local/lib/python3.7/dist-packages (from hyperopt>=0.2.7->flair) (1.3.0)\n",
            "Requirement already satisfied: networkx>=2.2 in /usr/local/lib/python3.7/dist-packages (from hyperopt>=0.2.7->flair) (2.6.3)\n",
            "Requirement already satisfied: overrides<4.0.0,>=3.0.0 in /usr/local/lib/python3.7/dist-packages (from konoha<5.0.0,>=4.0.0->flair) (3.1.0)\n",
            "Requirement already satisfied: importlib-metadata<4.0.0,>=3.7.0 in /usr/local/lib/python3.7/dist-packages (from konoha<5.0.0,>=4.0.0->flair) (3.10.1)\n",
            "Requirement already satisfied: typing-extensions>=3.6.4 in /usr/local/lib/python3.7/dist-packages (from importlib-metadata<4.0.0,>=3.7.0->konoha<5.0.0,>=4.0.0->flair) (4.1.1)\n",
            "Requirement already satisfied: zipp>=0.5 in /usr/local/lib/python3.7/dist-packages (from importlib-metadata<4.0.0,>=3.7.0->konoha<5.0.0,>=4.0.0->flair) (3.8.0)\n",
            "Requirement already satisfied: kiwisolver>=1.0.1 in /usr/local/lib/python3.7/dist-packages (from matplotlib>=2.2.3->flair) (1.4.3)\n",
            "Requirement already satisfied: pyparsing!=2.0.4,!=2.1.2,!=2.1.6,>=2.0.1 in /usr/local/lib/python3.7/dist-packages (from matplotlib>=2.2.3->flair) (3.0.9)\n",
            "Requirement already satisfied: cycler>=0.10 in /usr/local/lib/python3.7/dist-packages (from matplotlib>=2.2.3->flair) (0.11.0)\n",
            "Requirement already satisfied: certifi>=2017.4.17 in /usr/local/lib/python3.7/dist-packages (from requests[socks]->gdown==4.4.0->flair) (2022.6.15)\n",
            "Requirement already satisfied: idna<4,>=2.5 in /usr/local/lib/python3.7/dist-packages (from requests[socks]->gdown==4.4.0->flair) (2.10)\n",
            "Requirement already satisfied: urllib3<1.27,>=1.21.1 in /usr/local/lib/python3.7/dist-packages (from requests[socks]->gdown==4.4.0->flair) (1.24.3)\n",
            "Requirement already satisfied: charset-normalizer<3,>=2 in /usr/local/lib/python3.7/dist-packages (from requests[socks]->gdown==4.4.0->flair) (2.0.12)\n",
            "Requirement already satisfied: threadpoolctl>=2.0.0 in /usr/local/lib/python3.7/dist-packages (from scikit-learn>=0.21.3->flair) (3.1.0)\n",
            "Requirement already satisfied: joblib>=0.11 in /usr/local/lib/python3.7/dist-packages (from scikit-learn>=0.21.3->flair) (1.1.0)\n",
            "Requirement already satisfied: tokenizers!=0.11.3,<0.13,>=0.11.1 in /usr/local/lib/python3.7/dist-packages (from transformers>=4.0.0->flair) (0.12.1)\n",
            "Requirement already satisfied: packaging>=20.0 in /usr/local/lib/python3.7/dist-packages (from transformers>=4.0.0->flair) (21.3)\n",
            "Requirement already satisfied: pyyaml>=5.1 in /usr/local/lib/python3.7/dist-packages (from transformers>=4.0.0->flair) (6.0)\n",
            "Requirement already satisfied: wcwidth>=0.2.5 in /usr/local/lib/python3.7/dist-packages (from ftfy->flair) (0.2.5)\n",
            "Requirement already satisfied: PySocks!=1.5.7,>=1.5.6 in /usr/local/lib/python3.7/dist-packages (from requests[socks]->gdown==4.4.0->flair) (1.7.1)\n"
          ]
        }
      ],
      "source": [
        "# !pip install tweepy\n",
        "!pip install flair"
      ]
    },
    {
      "cell_type": "code",
      "execution_count": null,
      "metadata": {
        "colab": {
          "base_uri": "https://localhost:8080/"
        },
        "id": "YJlvvjTP_cbW",
        "outputId": "a9e7286d-5983-477d-fcdf-7b3260ec2459"
      },
      "outputs": [
        {
          "output_type": "stream",
          "name": "stdout",
          "text": [
            "Drive already mounted at /content/drive; to attempt to forcibly remount, call drive.mount(\"/content/drive\", force_remount=True).\n"
          ]
        }
      ],
      "source": [
        "from google.colab import drive\n",
        "drive.mount('/content/drive')"
      ]
    },
    {
      "cell_type": "code",
      "execution_count": null,
      "metadata": {
        "colab": {
          "base_uri": "https://localhost:8080/"
        },
        "id": "aAoFzF3iYjrO",
        "outputId": "d1991de1-8287-4a26-ca30-e28b9fb7a0df"
      },
      "outputs": [
        {
          "output_type": "stream",
          "name": "stdout",
          "text": [
            "Found existing installation: tweepy 4.10.0\n",
            "Uninstalling tweepy-4.10.0:\n",
            "  Would remove:\n",
            "    /usr/local/lib/python3.7/dist-packages/tweepy-4.10.0.dist-info/*\n",
            "    /usr/local/lib/python3.7/dist-packages/tweepy/*\n",
            "Proceed (y/n)? y\n",
            "  Successfully uninstalled tweepy-4.10.0\n"
          ]
        }
      ],
      "source": [
        "!pip uninstall tweepy\n",
        "# !pip install --user --upgrade tweepy"
      ]
    },
    {
      "cell_type": "code",
      "execution_count": null,
      "metadata": {
        "colab": {
          "base_uri": "https://localhost:8080/",
          "height": 415
        },
        "id": "RYmw7iMIYinw",
        "outputId": "36bc651c-9f55-4011-8170-0a15c1510387"
      },
      "outputs": [
        {
          "output_type": "stream",
          "name": "stdout",
          "text": [
            "Looking in indexes: https://pypi.org/simple, https://us-python.pkg.dev/colab-wheels/public/simple/\n",
            "Collecting git+https://github.com/tweepy/tweepy.git\n",
            "  Cloning https://github.com/tweepy/tweepy.git to /tmp/pip-req-build-ntla_ars\n",
            "  Running command git clone -q https://github.com/tweepy/tweepy.git /tmp/pip-req-build-ntla_ars\n",
            "Requirement already satisfied: oauthlib<4,>=3.2.0 in /usr/local/lib/python3.7/dist-packages (from tweepy==4.10.0) (3.2.0)\n",
            "Requirement already satisfied: requests<3,>=2.27.0 in /usr/local/lib/python3.7/dist-packages (from tweepy==4.10.0) (2.28.1)\n",
            "Requirement already satisfied: requests-oauthlib<2,>=1.2.0 in /usr/local/lib/python3.7/dist-packages (from tweepy==4.10.0) (1.3.1)\n",
            "Requirement already satisfied: certifi>=2017.4.17 in /usr/local/lib/python3.7/dist-packages (from requests<3,>=2.27.0->tweepy==4.10.0) (2022.6.15)\n",
            "Requirement already satisfied: charset-normalizer<3,>=2 in /usr/local/lib/python3.7/dist-packages (from requests<3,>=2.27.0->tweepy==4.10.0) (2.0.12)\n",
            "Requirement already satisfied: idna<4,>=2.5 in /usr/local/lib/python3.7/dist-packages (from requests<3,>=2.27.0->tweepy==4.10.0) (2.10)\n",
            "Requirement already satisfied: urllib3<1.27,>=1.21.1 in /usr/local/lib/python3.7/dist-packages (from requests<3,>=2.27.0->tweepy==4.10.0) (1.24.3)\n",
            "Building wheels for collected packages: tweepy\n",
            "  Building wheel for tweepy (setup.py) ... \u001b[?25l\u001b[?25hdone\n",
            "  Created wheel for tweepy: filename=tweepy-4.10.0-py3-none-any.whl size=94559 sha256=2e54a452fc235670d5dab75492ca429723c97973f1704639e5be3bbe4b3b3003\n",
            "  Stored in directory: /tmp/pip-ephem-wheel-cache-ndbunvyw/wheels/b4/a5/5a/5074abdb9f4bd5bd0e22631a63fc41ae2fa71ad83780ea18d1\n",
            "Successfully built tweepy\n",
            "Installing collected packages: tweepy\n",
            "Successfully installed tweepy-4.10.0\n"
          ]
        },
        {
          "output_type": "display_data",
          "data": {
            "application/vnd.colab-display-data+json": {
              "pip_warning": {
                "packages": [
                  "tweepy"
                ]
              }
            }
          },
          "metadata": {}
        }
      ],
      "source": [
        "pip install git+https://github.com/tweepy/tweepy.git"
      ]
    },
    {
      "cell_type": "code",
      "execution_count": null,
      "metadata": {
        "id": "IYeuEHk1GaSH"
      },
      "outputs": [],
      "source": [
        "bearer = \"xxxxxx\"\n",
        "consumer_key = \"xxxxxx\"\n",
        "consumer_secret = \"xxxxxx\" \n",
        "access_token = \"xxxxxx\"\n",
        "access_token_secret = \"xxxxxx\""
      ]
    },
    {
      "cell_type": "code",
      "execution_count": null,
      "metadata": {
        "id": "4QP6zIqlULlL"
      },
      "outputs": [],
      "source": [
        "import tweepy\n",
        "import re\n",
        "import time\n",
        "\n",
        "from flair.models import TextClassifier\n",
        "from flair.data import Sentence"
      ]
    },
    {
      "cell_type": "code",
      "execution_count": null,
      "metadata": {
        "id": "lJaCgQNcUPpo"
      },
      "outputs": [],
      "source": [
        "## initialize tweepy\n",
        "# api = tweepy.Client(bearer, consumer_key, consumer_secret, access_token, access_token_secret)\n",
        "auth = tweepy.OAuthHandler(consumer_key, consumer_secret)\n",
        "auth.set_access_token(access_token, access_token_secret)\n",
        "api = tweepy.API(auth)\n",
        "\n",
        "# api.get_me()\n"
      ]
    },
    {
      "cell_type": "code",
      "execution_count": null,
      "metadata": {
        "colab": {
          "base_uri": "https://localhost:8080/"
        },
        "id": "G7pJt-1ZUU0R",
        "outputId": "72a4c62e-62f9-49be-d5db-48a6c64e91fc"
      },
      "outputs": [
        {
          "output_type": "stream",
          "name": "stdout",
          "text": [
            "RT @PediatriaOggi: Quando il fotografo si è avvicinato lei gli ha dato\n",
            "un pezzo di pane, pensava che avesse fame. \n",
            "Nulla è più bello del do…\n",
            "-----------------------------------------------\n",
            "RT @navabfazzu: 🚀 Airdrop: Musk Foundation\n",
            "💰 Value: 1 Million MFT (~$1,000,000)\n",
            "👥 Referral: 20 MFT (~$20)\n",
            "🗞 News: TheCoinCore\n",
            "📅 End Date:…\n",
            "-----------------------------------------------\n",
            "Yengeç burcu #Elon #Musk Kayıp! En son 22 Haziranda Tweet atan Elon Musk doğum gününe günler kala ortadan yok oldu.… https://t.co/qShEYJmOYo\n",
            "-----------------------------------------------\n",
            "RT @navabfazzu: 🚀 Airdrop: Musk Foundation\n",
            "💰 Value: 1 Million MFT (~$1,000,000)\n",
            "👥 Referral: 20 MFT (~$20)\n",
            "🗞 News: TheCoinCore\n",
            "📅 End Date:…\n",
            "-----------------------------------------------\n",
            "RT @navabfazzu: 🚀 Airdrop: Musk Foundation\n",
            "💰 Value: 1 Million MFT (~$1,000,000)\n",
            "👥 Referral: 20 MFT (~$20)\n",
            "🗞 News: TheCoinCore\n",
            "📅 End Date:…\n",
            "-----------------------------------------------\n",
            "RT @PediatriaOggi: Se piaci ai bambini non puoi essere una brutta persona. Loro non mentono.\n",
            "#musk https://t.co/hcO13RwANW\n",
            "-----------------------------------------------\n",
            "RT @navabfazzu: 🚀 Airdrop: Musk Foundation\n",
            "💰 Value: 1 Million MFT (~$1,000,000)\n",
            "👥 Referral: 20 MFT (~$20)\n",
            "🗞 News: TheCoinCore\n",
            "📅 End Date:…\n",
            "-----------------------------------------------\n",
            "RT @navabfazzu: 🚀 Airdrop: Musk Foundation\n",
            "💰 Value: 1 Million MFT (~$1,000,000)\n",
            "👥 Referral: 20 MFT (~$20)\n",
            "🗞 News: TheCoinCore\n",
            "📅 End Date:…\n",
            "-----------------------------------------------\n",
            "RT @navabfazzu: 🚀 Airdrop: Musk Foundation\n",
            "💰 Value: 1 Million MFT (~$1,000,000)\n",
            "👥 Referral: 20 MFT (~$20)\n",
            "🗞 News: TheCoinCore\n",
            "📅 End Date:…\n",
            "-----------------------------------------------\n",
            "I prefer girls. Handmade Organic Soap Monkey Farts Vitamins Moisturizer 4.8 oz SLS/SLES free Coconut Oil… https://t.co/ntl3qYIDuV\n",
            "-----------------------------------------------\n",
            "@elonmusk Lies about being an engineer, and lies about so many other things. #Musk #Zuckerberg #Putin… https://t.co/7kovsDMazm\n",
            "-----------------------------------------------\n",
            "#Musk zwang Tesla-Angestellte zurück ins Büro – nun reichen die Schreibtische nicht | @sternde   #homeoffice https://t.co/9l6Cusvjnb\n",
            "-----------------------------------------------\n",
            "There are five kinds of entrepreneurs: Practitioners, Managers, Trend Spotters, Sales Professionals and Visionaries… https://t.co/qtETqS0WRL\n",
            "-----------------------------------------------\n",
            "Elon #Musk cumple amenaza y despide a 200 trabajadores de #Tesla\n",
            "\n",
            "https://t.co/fQ9EEsXhx6\n",
            "-----------------------------------------------\n",
            "RT @PediatriaOggi: Se piaci ai bambini non puoi essere una brutta persona. Loro non mentono.\n",
            "#musk https://t.co/hcO13RwANW\n",
            "-----------------------------------------------\n"
          ]
        }
      ],
      "source": [
        "## get tweets in realtime\n",
        "response = api.search_tweets('#musk')\n",
        "\n",
        "tweets = response\n",
        "for tweet in tweets:\n",
        "    print(tweet.text)\n",
        "    print('-----------------------------------------------')"
      ]
    },
    {
      "cell_type": "code",
      "execution_count": null,
      "metadata": {
        "id": "q54f7O-GZPbB"
      },
      "outputs": [],
      "source": [
        "def preprocess_text(text):\n",
        "    # convert to lower case\n",
        "    text = text.lower()\n",
        "    # remove user handle\n",
        "    text = re.sub(\"@[\\w]*\", \"\", text)\n",
        "    # remove http links\n",
        "    text = re.sub(\"http\\S+\", \"\", text)\n",
        "    # remove digits and spl characters\n",
        "    text = re.sub(\"[^a-zA-Z#]\", \" \", text)\n",
        "    # remove rt characters\n",
        "    text = re.sub(\"rt\", \"\", text)\n",
        "    # remove additional spaces\n",
        "    text = re.sub(\"\\s+\", \" \", text)\n",
        "\n",
        "    return text"
      ]
    },
    {
      "cell_type": "code",
      "execution_count": null,
      "metadata": {
        "colab": {
          "base_uri": "https://localhost:8080/",
          "height": 36
        },
        "id": "AGP3Ip9WZR1E",
        "outputId": "241ee125-7dba-4727-cefc-f1d3d090bbed"
      },
      "outputs": [
        {
          "output_type": "execute_result",
          "data": {
            "text/plain": [
              "'RT @PediatriaOggi: Se piaci ai bambini non puoi essere una brutta persona. Loro non mentono.\\n#musk https://t.co/hcO13RwANW'"
            ],
            "application/vnd.google.colaboratory.intrinsic+json": {
              "type": "string"
            }
          },
          "metadata": {},
          "execution_count": 6
        }
      ],
      "source": [
        "tweet.text\n"
      ]
    },
    {
      "cell_type": "code",
      "execution_count": null,
      "metadata": {
        "colab": {
          "base_uri": "https://localhost:8080/",
          "height": 36
        },
        "id": "H_Fy7pEdZu5j",
        "outputId": "d6c789b0-cb63-49fe-dc87-10811ac3dd2c"
      },
      "outputs": [
        {
          "output_type": "execute_result",
          "data": {
            "text/plain": [
              "' se piaci ai bambini non puoi essere una brutta persona loro non mentono #musk '"
            ],
            "application/vnd.google.colaboratory.intrinsic+json": {
              "type": "string"
            }
          },
          "metadata": {},
          "execution_count": 29
        }
      ],
      "source": [
        "preprocess_text(tweet.text)\n"
      ]
    },
    {
      "cell_type": "code",
      "execution_count": null,
      "metadata": {
        "colab": {
          "base_uri": "https://localhost:8080/"
        },
        "id": "sUEdNDDFZxg7",
        "outputId": "ba13b165-9fb7-44ac-8889-80d8cef3b996"
      },
      "outputs": [
        {
          "output_type": "stream",
          "name": "stdout",
          "text": [
            "2022-06-30 07:28:27,386 loading file /root/.flair/models/sentiment-en-mix-distillbert_4.pt\n"
          ]
        }
      ],
      "source": [
        "## create sentiment analysis function\n",
        "classifier = TextClassifier.load('en-sentiment')\n",
        "def get_sentiment(tweet):\n",
        "    sentence = Sentence(tweet)\n",
        "    classifier.predict(sentence)\n",
        "    return str(sentence.labels[0]).split()[0]"
      ]
    },
    {
      "cell_type": "code",
      "execution_count": null,
      "metadata": {
        "colab": {
          "base_uri": "https://localhost:8080/",
          "height": 36
        },
        "id": "ULtjnoEJZ64g",
        "outputId": "50366202-12e4-4621-b436-5338d85557f5"
      },
      "outputs": [
        {
          "output_type": "execute_result",
          "data": {
            "text/plain": [
              "'Sentence:'"
            ],
            "application/vnd.google.colaboratory.intrinsic+json": {
              "type": "string"
            }
          },
          "metadata": {},
          "execution_count": 31
        }
      ],
      "source": [
        "get_sentiment(tweet.text)"
      ]
    },
    {
      "cell_type": "code",
      "execution_count": null,
      "metadata": {
        "id": "NGf8Gp83aI6F"
      },
      "outputs": [],
      "source": [
        ""
      ]
    },
    {
      "cell_type": "code",
      "execution_count": null,
      "metadata": {
        "colab": {
          "base_uri": "https://localhost:8080/"
        },
        "id": "6w10-HbBaJBn",
        "outputId": "80e418f0-3f7d-4e20-e9b8-898a9dcac724"
      },
      "outputs": [
        {
          "output_type": "stream",
          "name": "stdout",
          "text": [
            "2022-06-30 07:28:31,144 loading file /root/.flair/models/sentiment-en-mix-distillbert_4.pt\n"
          ]
        }
      ],
      "source": [
        "## preprocess the tweets\n",
        "def preprocess_text(text):\n",
        "    # convert to lower case\n",
        "    text = text.lower()\n",
        "    # remove user handle\n",
        "    text = re.sub(\"@[\\w]*\", \"\", text)\n",
        "    # remove http links\n",
        "    text = re.sub(\"http\\S+\", \"\", text)\n",
        "    # remove digits and spl characters\n",
        "    text = re.sub(\"[^a-zA-Z#]\", \" \", text)\n",
        "    # remove rt characters\n",
        "    text = re.sub(\"rt\", \"\", text)\n",
        "    # remove additional spaces\n",
        "    text = re.sub(\"\\s+\", \" \", text)\n",
        "\n",
        "    return text\n",
        "\n",
        "## create sentiment analysis function\n",
        "classifier = TextClassifier.load('en-sentiment')\n",
        "def get_sentiment(tweet):\n",
        "    sentence = Sentence(tweet)\n",
        "    classifier.predict(sentence)\n",
        "    return str(sentence.labels).split(\"\\'\")[3]"
      ]
    },
    {
      "cell_type": "code",
      "execution_count": null,
      "metadata": {
        "id": "7a0vWuRqaObC",
        "colab": {
          "base_uri": "https://localhost:8080/",
          "height": 1000
        },
        "outputId": "4a6b52f2-5b11-4ed3-cd61-78a6ca932374"
      },
      "outputs": [
        {
          "output_type": "stream",
          "name": "stderr",
          "text": [
            "Unexpected parameter: id\n",
            "Unexpected parameter: lang\n"
          ]
        },
        {
          "output_type": "stream",
          "name": "stdout",
          "text": [
            "------------------------Tweet-------------------------------\n",
            "I pray im not next 🙏🙏 https://t.co/U0uohtSSwB\n",
            "------------------------------------------------------------\n",
            "Sentiment: NEGATIVE\n",
            "\n",
            "\n",
            "\n",
            "------------------------Tweet-------------------------------\n",
            "Summer is really the season where mcyttwt accounts gets exposed 💀\n",
            "------------------------------------------------------------\n",
            "Sentiment: NEGATIVE\n",
            "\n",
            "\n",
            "\n",
            "------------------------Tweet-------------------------------\n",
            "RT @im_BirB: He GROW!!\n",
            "\n",
            "(@Dream__Fanart #dreamfanart ) https://t.co/Jo82CjhX0q\n",
            "------------------------------------------------------------\n",
            "Sentiment: POSITIVE\n",
            "\n",
            "\n",
            "\n",
            "------------------------Tweet-------------------------------\n",
            "RT @im_BirB: He's up to no good\n",
            "\n",
            "(@Dream__Fanart #dreamfanart ) https://t.co/fGxeqnrcLB\n",
            "------------------------------------------------------------\n",
            "Sentiment: NEGATIVE\n",
            "\n",
            "\n",
            "\n",
            "------------------------Tweet-------------------------------\n",
            "RT @dailypupnap: #21 — 💧🐶\n",
            "#sapnapfanart https://t.co/OeqWaAsws6\n",
            "------------------------------------------------------------\n",
            "Sentiment: POSITIVE\n",
            "\n",
            "\n",
            "\n",
            "------------------------Tweet-------------------------------\n",
            "@AxoKoi ITS U DONAA ✨💖\n",
            "------------------------------------------------------------\n",
            "Sentiment: NEGATIVE\n",
            "\n",
            "\n",
            "\n",
            "------------------------Tweet-------------------------------\n",
            "@danotiel AAAA DAN TY BELOVED 💖💖\n",
            "------------------------------------------------------------\n",
            "Sentiment: POSITIVE\n",
            "\n",
            "\n",
            "\n",
            "------------------------Tweet-------------------------------\n",
            "@Rainetail JSJSJSU ITS U FERN ITS UUU IM GLAD U FINALLY SAW IT!! ❤️❤️\n",
            "------------------------------------------------------------\n",
            "Sentiment: POSITIVE\n",
            "\n",
            "\n",
            "\n",
            "------------------------Tweet-------------------------------\n",
            "RT @prettyboigogy: break the binary 💛🤍💜🖤⛓\n",
            "{@Dream__Fanart ; #dreamfanart 😎} https://t.co/fngnqnXtub\n",
            "------------------------------------------------------------\n",
            "Sentiment: NEGATIVE\n",
            "\n",
            "\n",
            "\n",
            "------------------------Tweet-------------------------------\n",
            "@KalopsicStar WOOOOO 😭😭\n",
            "------------------------------------------------------------\n",
            "Sentiment: POSITIVE\n"
          ]
        },
        {
          "output_type": "stream",
          "name": "stderr",
          "text": [
            "Unexpected parameter: id\n",
            "Unexpected parameter: lang\n"
          ]
        },
        {
          "output_type": "stream",
          "name": "stdout",
          "text": [
            "\n",
            "\n",
            "\n",
            "------------------------Tweet-------------------------------\n",
            "I pray im not next 🙏🙏 https://t.co/U0uohtSSwB\n",
            "------------------------------------------------------------\n",
            "Sentiment: NEGATIVE\n",
            "\n",
            "\n",
            "\n",
            "------------------------Tweet-------------------------------\n",
            "Summer is really the season where mcyttwt accounts gets exposed 💀\n",
            "------------------------------------------------------------\n",
            "Sentiment: NEGATIVE\n",
            "\n",
            "\n",
            "\n",
            "------------------------Tweet-------------------------------\n",
            "RT @im_BirB: He GROW!!\n",
            "\n",
            "(@Dream__Fanart #dreamfanart ) https://t.co/Jo82CjhX0q\n",
            "------------------------------------------------------------\n",
            "Sentiment: POSITIVE\n",
            "\n",
            "\n",
            "\n",
            "------------------------Tweet-------------------------------\n",
            "RT @im_BirB: He's up to no good\n",
            "\n",
            "(@Dream__Fanart #dreamfanart ) https://t.co/fGxeqnrcLB\n",
            "------------------------------------------------------------\n",
            "Sentiment: NEGATIVE\n",
            "\n",
            "\n",
            "\n",
            "------------------------Tweet-------------------------------\n",
            "RT @dailypupnap: #21 — 💧🐶\n",
            "#sapnapfanart https://t.co/OeqWaAsws6\n",
            "------------------------------------------------------------\n",
            "Sentiment: POSITIVE\n",
            "\n",
            "\n",
            "\n",
            "------------------------Tweet-------------------------------\n",
            "@AxoKoi ITS U DONAA ✨💖\n",
            "------------------------------------------------------------\n",
            "Sentiment: NEGATIVE\n",
            "\n",
            "\n",
            "\n",
            "------------------------Tweet-------------------------------\n",
            "@danotiel AAAA DAN TY BELOVED 💖💖\n",
            "------------------------------------------------------------\n",
            "Sentiment: POSITIVE\n",
            "\n",
            "\n",
            "\n",
            "------------------------Tweet-------------------------------\n",
            "@Rainetail JSJSJSU ITS U FERN ITS UUU IM GLAD U FINALLY SAW IT!! ❤️❤️\n",
            "------------------------------------------------------------\n",
            "Sentiment: POSITIVE\n",
            "\n",
            "\n",
            "\n",
            "------------------------Tweet-------------------------------\n",
            "RT @prettyboigogy: break the binary 💛🤍💜🖤⛓\n",
            "{@Dream__Fanart ; #dreamfanart 😎} https://t.co/fngnqnXtub\n",
            "------------------------------------------------------------\n",
            "Sentiment: NEGATIVE\n",
            "\n",
            "\n",
            "\n",
            "------------------------Tweet-------------------------------\n",
            "@KalopsicStar WOOOOO 😭😭\n",
            "------------------------------------------------------------\n",
            "Sentiment: POSITIVE\n"
          ]
        },
        {
          "output_type": "stream",
          "name": "stderr",
          "text": [
            "Unexpected parameter: id\n",
            "Unexpected parameter: lang\n"
          ]
        },
        {
          "output_type": "stream",
          "name": "stdout",
          "text": [
            "\n",
            "\n",
            "\n",
            "------------------------Tweet-------------------------------\n",
            "I pray im not next 🙏🙏 https://t.co/U0uohtSSwB\n",
            "------------------------------------------------------------\n",
            "Sentiment: NEGATIVE\n",
            "\n",
            "\n",
            "\n",
            "------------------------Tweet-------------------------------\n",
            "Summer is really the season where mcyttwt accounts gets exposed 💀\n",
            "------------------------------------------------------------\n",
            "Sentiment: NEGATIVE\n",
            "\n",
            "\n",
            "\n",
            "------------------------Tweet-------------------------------\n",
            "RT @im_BirB: He GROW!!\n",
            "\n",
            "(@Dream__Fanart #dreamfanart ) https://t.co/Jo82CjhX0q\n",
            "------------------------------------------------------------\n",
            "Sentiment: POSITIVE\n",
            "\n",
            "\n",
            "\n",
            "------------------------Tweet-------------------------------\n",
            "RT @im_BirB: He's up to no good\n",
            "\n",
            "(@Dream__Fanart #dreamfanart ) https://t.co/fGxeqnrcLB\n",
            "------------------------------------------------------------\n",
            "Sentiment: NEGATIVE\n",
            "\n",
            "\n",
            "\n",
            "------------------------Tweet-------------------------------\n",
            "RT @dailypupnap: #21 — 💧🐶\n",
            "#sapnapfanart https://t.co/OeqWaAsws6\n",
            "------------------------------------------------------------\n",
            "Sentiment: POSITIVE\n",
            "\n",
            "\n",
            "\n",
            "------------------------Tweet-------------------------------\n",
            "@AxoKoi ITS U DONAA ✨💖\n",
            "------------------------------------------------------------\n",
            "Sentiment: NEGATIVE\n",
            "\n",
            "\n",
            "\n",
            "------------------------Tweet-------------------------------\n",
            "@danotiel AAAA DAN TY BELOVED 💖💖\n",
            "------------------------------------------------------------\n",
            "Sentiment: POSITIVE\n",
            "\n",
            "\n",
            "\n",
            "------------------------Tweet-------------------------------\n",
            "@Rainetail JSJSJSU ITS U FERN ITS UUU IM GLAD U FINALLY SAW IT!! ❤️❤️\n",
            "------------------------------------------------------------\n",
            "Sentiment: POSITIVE\n",
            "\n",
            "\n",
            "\n",
            "------------------------Tweet-------------------------------\n",
            "RT @prettyboigogy: break the binary 💛🤍💜🖤⛓\n",
            "{@Dream__Fanart ; #dreamfanart 😎} https://t.co/fngnqnXtub\n",
            "------------------------------------------------------------\n",
            "Sentiment: NEGATIVE\n",
            "\n",
            "\n",
            "\n",
            "------------------------Tweet-------------------------------\n",
            "@KalopsicStar WOOOOO 😭😭\n",
            "------------------------------------------------------------\n",
            "Sentiment: POSITIVE\n"
          ]
        },
        {
          "output_type": "stream",
          "name": "stderr",
          "text": [
            "Unexpected parameter: id\n",
            "Unexpected parameter: lang\n"
          ]
        },
        {
          "output_type": "stream",
          "name": "stdout",
          "text": [
            "\n",
            "\n",
            "\n",
            "------------------------Tweet-------------------------------\n",
            "I pray im not next 🙏🙏 https://t.co/U0uohtSSwB\n",
            "------------------------------------------------------------\n",
            "Sentiment: NEGATIVE\n",
            "\n",
            "\n",
            "\n",
            "------------------------Tweet-------------------------------\n",
            "Summer is really the season where mcyttwt accounts gets exposed 💀\n",
            "------------------------------------------------------------\n",
            "Sentiment: NEGATIVE\n",
            "\n",
            "\n",
            "\n",
            "------------------------Tweet-------------------------------\n",
            "RT @im_BirB: He GROW!!\n",
            "\n",
            "(@Dream__Fanart #dreamfanart ) https://t.co/Jo82CjhX0q\n",
            "------------------------------------------------------------\n",
            "Sentiment: POSITIVE\n",
            "\n",
            "\n",
            "\n",
            "------------------------Tweet-------------------------------\n",
            "RT @im_BirB: He's up to no good\n",
            "\n",
            "(@Dream__Fanart #dreamfanart ) https://t.co/fGxeqnrcLB\n",
            "------------------------------------------------------------\n",
            "Sentiment: NEGATIVE\n",
            "\n",
            "\n",
            "\n",
            "------------------------Tweet-------------------------------\n",
            "RT @dailypupnap: #21 — 💧🐶\n",
            "#sapnapfanart https://t.co/OeqWaAsws6\n",
            "------------------------------------------------------------\n",
            "Sentiment: POSITIVE\n",
            "\n",
            "\n",
            "\n",
            "------------------------Tweet-------------------------------\n",
            "@AxoKoi ITS U DONAA ✨💖\n",
            "------------------------------------------------------------\n",
            "Sentiment: NEGATIVE\n",
            "\n",
            "\n",
            "\n",
            "------------------------Tweet-------------------------------\n",
            "@danotiel AAAA DAN TY BELOVED 💖💖\n",
            "------------------------------------------------------------\n",
            "Sentiment: POSITIVE\n",
            "\n",
            "\n",
            "\n",
            "------------------------Tweet-------------------------------\n",
            "@Rainetail JSJSJSU ITS U FERN ITS UUU IM GLAD U FINALLY SAW IT!! ❤️❤️\n",
            "------------------------------------------------------------\n",
            "Sentiment: POSITIVE\n",
            "\n",
            "\n",
            "\n",
            "------------------------Tweet-------------------------------\n",
            "RT @prettyboigogy: break the binary 💛🤍💜🖤⛓\n",
            "{@Dream__Fanart ; #dreamfanart 😎} https://t.co/fngnqnXtub\n",
            "------------------------------------------------------------\n",
            "Sentiment: NEGATIVE\n",
            "\n",
            "\n",
            "\n",
            "------------------------Tweet-------------------------------\n",
            "@KalopsicStar WOOOOO 😭😭\n",
            "------------------------------------------------------------\n",
            "Sentiment: POSITIVE\n"
          ]
        },
        {
          "output_type": "stream",
          "name": "stderr",
          "text": [
            "Unexpected parameter: id\n",
            "Unexpected parameter: lang\n"
          ]
        },
        {
          "output_type": "stream",
          "name": "stdout",
          "text": [
            "\n",
            "\n",
            "\n",
            "------------------------Tweet-------------------------------\n",
            "I pray im not next 🙏🙏 https://t.co/U0uohtSSwB\n",
            "------------------------------------------------------------\n",
            "Sentiment: NEGATIVE\n",
            "\n",
            "\n",
            "\n",
            "------------------------Tweet-------------------------------\n",
            "Summer is really the season where mcyttwt accounts gets exposed 💀\n",
            "------------------------------------------------------------\n",
            "Sentiment: NEGATIVE\n",
            "\n",
            "\n",
            "\n",
            "------------------------Tweet-------------------------------\n",
            "RT @im_BirB: He GROW!!\n",
            "\n",
            "(@Dream__Fanart #dreamfanart ) https://t.co/Jo82CjhX0q\n",
            "------------------------------------------------------------\n",
            "Sentiment: POSITIVE\n",
            "\n",
            "\n",
            "\n",
            "------------------------Tweet-------------------------------\n",
            "RT @im_BirB: He's up to no good\n",
            "\n",
            "(@Dream__Fanart #dreamfanart ) https://t.co/fGxeqnrcLB\n",
            "------------------------------------------------------------\n",
            "Sentiment: NEGATIVE\n",
            "\n",
            "\n",
            "\n",
            "------------------------Tweet-------------------------------\n",
            "RT @dailypupnap: #21 — 💧🐶\n",
            "#sapnapfanart https://t.co/OeqWaAsws6\n",
            "------------------------------------------------------------\n",
            "Sentiment: POSITIVE\n",
            "\n",
            "\n",
            "\n",
            "------------------------Tweet-------------------------------\n",
            "@AxoKoi ITS U DONAA ✨💖\n",
            "------------------------------------------------------------\n",
            "Sentiment: NEGATIVE\n",
            "\n",
            "\n",
            "\n",
            "------------------------Tweet-------------------------------\n",
            "@danotiel AAAA DAN TY BELOVED 💖💖\n",
            "------------------------------------------------------------\n",
            "Sentiment: POSITIVE\n",
            "\n",
            "\n",
            "\n",
            "------------------------Tweet-------------------------------\n",
            "@Rainetail JSJSJSU ITS U FERN ITS UUU IM GLAD U FINALLY SAW IT!! ❤️❤️\n",
            "------------------------------------------------------------\n",
            "Sentiment: POSITIVE\n",
            "\n",
            "\n",
            "\n",
            "------------------------Tweet-------------------------------\n",
            "RT @prettyboigogy: break the binary 💛🤍💜🖤⛓\n",
            "{@Dream__Fanart ; #dreamfanart 😎} https://t.co/fngnqnXtub\n",
            "------------------------------------------------------------\n",
            "Sentiment: NEGATIVE\n",
            "\n",
            "\n",
            "\n",
            "------------------------Tweet-------------------------------\n",
            "@KalopsicStar WOOOOO 😭😭\n",
            "------------------------------------------------------------\n",
            "Sentiment: POSITIVE\n"
          ]
        },
        {
          "output_type": "stream",
          "name": "stderr",
          "text": [
            "Unexpected parameter: id\n",
            "Unexpected parameter: lang\n"
          ]
        },
        {
          "output_type": "stream",
          "name": "stdout",
          "text": [
            "\n",
            "\n",
            "\n",
            "------------------------Tweet-------------------------------\n",
            "I pray im not next 🙏🙏 https://t.co/U0uohtSSwB\n",
            "------------------------------------------------------------\n",
            "Sentiment: NEGATIVE\n",
            "\n",
            "\n",
            "\n",
            "------------------------Tweet-------------------------------\n",
            "Summer is really the season where mcyttwt accounts gets exposed 💀\n",
            "------------------------------------------------------------\n",
            "Sentiment: NEGATIVE\n",
            "\n",
            "\n",
            "\n",
            "------------------------Tweet-------------------------------\n",
            "RT @im_BirB: He GROW!!\n",
            "\n",
            "(@Dream__Fanart #dreamfanart ) https://t.co/Jo82CjhX0q\n",
            "------------------------------------------------------------\n",
            "Sentiment: POSITIVE\n",
            "\n",
            "\n",
            "\n",
            "------------------------Tweet-------------------------------\n",
            "RT @im_BirB: He's up to no good\n",
            "\n",
            "(@Dream__Fanart #dreamfanart ) https://t.co/fGxeqnrcLB\n",
            "------------------------------------------------------------\n",
            "Sentiment: NEGATIVE\n",
            "\n",
            "\n",
            "\n",
            "------------------------Tweet-------------------------------\n",
            "RT @dailypupnap: #21 — 💧🐶\n",
            "#sapnapfanart https://t.co/OeqWaAsws6\n",
            "------------------------------------------------------------\n",
            "Sentiment: POSITIVE\n",
            "\n",
            "\n",
            "\n",
            "------------------------Tweet-------------------------------\n",
            "@AxoKoi ITS U DONAA ✨💖\n",
            "------------------------------------------------------------\n",
            "Sentiment: NEGATIVE\n",
            "\n",
            "\n",
            "\n",
            "------------------------Tweet-------------------------------\n",
            "@danotiel AAAA DAN TY BELOVED 💖💖\n",
            "------------------------------------------------------------\n",
            "Sentiment: POSITIVE\n",
            "\n",
            "\n",
            "\n",
            "------------------------Tweet-------------------------------\n",
            "@Rainetail JSJSJSU ITS U FERN ITS UUU IM GLAD U FINALLY SAW IT!! ❤️❤️\n",
            "------------------------------------------------------------\n",
            "Sentiment: POSITIVE\n",
            "\n",
            "\n",
            "\n",
            "------------------------Tweet-------------------------------\n",
            "RT @prettyboigogy: break the binary 💛🤍💜🖤⛓\n",
            "{@Dream__Fanart ; #dreamfanart 😎} https://t.co/fngnqnXtub\n",
            "------------------------------------------------------------\n",
            "Sentiment: NEGATIVE\n",
            "\n",
            "\n",
            "\n",
            "------------------------Tweet-------------------------------\n",
            "@KalopsicStar WOOOOO 😭😭\n",
            "------------------------------------------------------------\n",
            "Sentiment: POSITIVE\n"
          ]
        },
        {
          "output_type": "stream",
          "name": "stderr",
          "text": [
            "Unexpected parameter: id\n",
            "Unexpected parameter: lang\n"
          ]
        },
        {
          "output_type": "stream",
          "name": "stdout",
          "text": [
            "\n",
            "\n",
            "\n",
            "------------------------Tweet-------------------------------\n",
            "I pray im not next 🙏🙏 https://t.co/U0uohtSSwB\n",
            "------------------------------------------------------------\n",
            "Sentiment: NEGATIVE\n",
            "\n",
            "\n",
            "\n",
            "------------------------Tweet-------------------------------\n",
            "Summer is really the season where mcyttwt accounts gets exposed 💀\n",
            "------------------------------------------------------------\n",
            "Sentiment: NEGATIVE\n",
            "\n",
            "\n",
            "\n",
            "------------------------Tweet-------------------------------\n",
            "RT @im_BirB: He GROW!!\n",
            "\n",
            "(@Dream__Fanart #dreamfanart ) https://t.co/Jo82CjhX0q\n",
            "------------------------------------------------------------\n",
            "Sentiment: POSITIVE\n",
            "\n",
            "\n",
            "\n",
            "------------------------Tweet-------------------------------\n",
            "RT @im_BirB: He's up to no good\n",
            "\n",
            "(@Dream__Fanart #dreamfanart ) https://t.co/fGxeqnrcLB\n",
            "------------------------------------------------------------\n",
            "Sentiment: NEGATIVE\n",
            "\n",
            "\n",
            "\n",
            "------------------------Tweet-------------------------------\n",
            "RT @dailypupnap: #21 — 💧🐶\n",
            "#sapnapfanart https://t.co/OeqWaAsws6\n",
            "------------------------------------------------------------\n",
            "Sentiment: POSITIVE\n",
            "\n",
            "\n",
            "\n",
            "------------------------Tweet-------------------------------\n",
            "@AxoKoi ITS U DONAA ✨💖\n",
            "------------------------------------------------------------\n",
            "Sentiment: NEGATIVE\n",
            "\n",
            "\n",
            "\n",
            "------------------------Tweet-------------------------------\n",
            "@danotiel AAAA DAN TY BELOVED 💖💖\n",
            "------------------------------------------------------------\n",
            "Sentiment: POSITIVE\n",
            "\n",
            "\n",
            "\n",
            "------------------------Tweet-------------------------------\n",
            "@Rainetail JSJSJSU ITS U FERN ITS UUU IM GLAD U FINALLY SAW IT!! ❤️❤️\n",
            "------------------------------------------------------------\n",
            "Sentiment: POSITIVE\n",
            "\n",
            "\n",
            "\n",
            "------------------------Tweet-------------------------------\n",
            "RT @prettyboigogy: break the binary 💛🤍💜🖤⛓\n",
            "{@Dream__Fanart ; #dreamfanart 😎} https://t.co/fngnqnXtub\n",
            "------------------------------------------------------------\n",
            "Sentiment: NEGATIVE\n",
            "\n",
            "\n",
            "\n",
            "------------------------Tweet-------------------------------\n",
            "@KalopsicStar WOOOOO 😭😭\n",
            "------------------------------------------------------------\n",
            "Sentiment: POSITIVE\n"
          ]
        },
        {
          "output_type": "stream",
          "name": "stderr",
          "text": [
            "Unexpected parameter: id\n",
            "Unexpected parameter: lang\n"
          ]
        },
        {
          "output_type": "stream",
          "name": "stdout",
          "text": [
            "\n",
            "\n",
            "\n",
            "------------------------Tweet-------------------------------\n",
            "I pray im not next 🙏🙏 https://t.co/U0uohtSSwB\n",
            "------------------------------------------------------------\n",
            "Sentiment: NEGATIVE\n",
            "\n",
            "\n",
            "\n",
            "------------------------Tweet-------------------------------\n",
            "Summer is really the season where mcyttwt accounts gets exposed 💀\n",
            "------------------------------------------------------------\n",
            "Sentiment: NEGATIVE\n",
            "\n",
            "\n",
            "\n",
            "------------------------Tweet-------------------------------\n",
            "RT @im_BirB: He GROW!!\n",
            "\n",
            "(@Dream__Fanart #dreamfanart ) https://t.co/Jo82CjhX0q\n",
            "------------------------------------------------------------\n",
            "Sentiment: POSITIVE\n",
            "\n",
            "\n",
            "\n",
            "------------------------Tweet-------------------------------\n",
            "RT @im_BirB: He's up to no good\n",
            "\n",
            "(@Dream__Fanart #dreamfanart ) https://t.co/fGxeqnrcLB\n",
            "------------------------------------------------------------\n",
            "Sentiment: NEGATIVE\n"
          ]
        },
        {
          "output_type": "error",
          "ename": "KeyboardInterrupt",
          "evalue": "ignored",
          "traceback": [
            "\u001b[0;31m---------------------------------------------------------------------------\u001b[0m",
            "\u001b[0;31mKeyboardInterrupt\u001b[0m                         Traceback (most recent call last)",
            "\u001b[0;32m<ipython-input-9-a2340058af6d>\u001b[0m in \u001b[0;36m<module>\u001b[0;34m()\u001b[0m\n\u001b[1;32m     19\u001b[0m         \u001b[0mprint\u001b[0m\u001b[0;34m(\u001b[0m\u001b[0;34m'------------------------------------------------------------'\u001b[0m\u001b[0;34m)\u001b[0m\u001b[0;34m\u001b[0m\u001b[0;34m\u001b[0m\u001b[0m\n\u001b[1;32m     20\u001b[0m         \u001b[0mprint\u001b[0m\u001b[0;34m(\u001b[0m\u001b[0;34m'Sentiment:'\u001b[0m\u001b[0;34m,\u001b[0m \u001b[0msentiment\u001b[0m\u001b[0;34m)\u001b[0m\u001b[0;34m\u001b[0m\u001b[0;34m\u001b[0m\u001b[0m\n\u001b[0;32m---> 21\u001b[0;31m         \u001b[0mtime\u001b[0m\u001b[0;34m.\u001b[0m\u001b[0msleep\u001b[0m\u001b[0;34m(\u001b[0m\u001b[0;36m1\u001b[0m\u001b[0;34m)\u001b[0m\u001b[0;34m\u001b[0m\u001b[0;34m\u001b[0m\u001b[0m\n\u001b[0m\u001b[1;32m     22\u001b[0m         \u001b[0mprint\u001b[0m\u001b[0;34m(\u001b[0m\u001b[0;34m'\\n\\n'\u001b[0m\u001b[0;34m)\u001b[0m\u001b[0;34m\u001b[0m\u001b[0;34m\u001b[0m\u001b[0m\n",
            "\u001b[0;31mKeyboardInterrupt\u001b[0m: "
          ]
        }
      ],
      "source": [
        "## get realtime sentiments\n",
        "while True:\n",
        "    # get tweets (10 tweets)\n",
        "    # tweets = api.search_tweets('#crypto')\n",
        "    # screen_name = 'elonmusk'\n",
        "    # tweets = api.user_timeline(screen_name=screen_name)\n",
        "    numtweet=10\n",
        "    tweets = tweepy.Cursor(api.user_timeline, id='im_BirB', lang=\"en\",\n",
        "                        tweet_mode='extended').items(numtweet)\n",
        "\n",
        "    for tweet in tweets:\n",
        "        # original_tweet = tweet.text\n",
        "        original_tweet = tweet.full_text\n",
        "        clean_tweet = preprocess_text(original_tweet)\n",
        "        sentiment = get_sentiment(clean_tweet)\n",
        "\n",
        "        print('------------------------Tweet-------------------------------')\n",
        "        print(original_tweet)\n",
        "        print('------------------------------------------------------------')\n",
        "        print('Sentiment:', sentiment)\n",
        "        time.sleep(1)\n",
        "        print('\\n\\n')"
      ]
    },
    {
      "cell_type": "code",
      "execution_count": null,
      "metadata": {
        "id": "M4NbwJT622K6"
      },
      "outputs": [],
      "source": [
        ""
      ]
    },
    {
      "cell_type": "code",
      "execution_count": null,
      "metadata": {
        "id": "V72k9MVb29rS"
      },
      "outputs": [],
      "source": [
        "def scrapeuser(words, date_since):\n",
        "  tweets = tweepy.Cursor(api.user_timeline, id=words, lang=\"en\",\n",
        "                        since=date_since, tweet_mode='extended').items(100)\n",
        "  for tweet in tweets:\n",
        "        # original_tweet = tweet.text\n",
        "        original_tweet = tweet.full_text\n",
        "        clean_tweet = preprocess_text(original_tweet)\n",
        "        sentiment = get_sentiment(clean_tweet)\n",
        "\n",
        "        print('------------------------Tweet-------------------------------')\n",
        "        print(original_tweet)\n",
        "        print('------------------------------------------------------------')\n",
        "        print('Sentiment:', sentiment)\n",
        "        time.sleep(1)\n",
        "        print('\\n\\n')"
      ]
    },
    {
      "cell_type": "code",
      "execution_count": null,
      "metadata": {
        "id": "CmdlC6Kc3Avq"
      },
      "outputs": [],
      "source": [
        "def scrape(words, date_since):\n",
        "  tweets = tweepy.Cursor(api.search, q=words, lang=\"en\",\n",
        "                        since=date_since, tweet_mode='extended').items(100)\n",
        "  for tweet in tweets:\n",
        "        # original_tweet = tweet.text\n",
        "        original_tweet = tweet.full_text\n",
        "        clean_tweet = preprocess_text(original_tweet)\n",
        "        sentiment = get_sentiment(clean_tweet)\n",
        "\n",
        "        print('------------------------Tweet-------------------------------')\n",
        "        print(original_tweet)\n",
        "        print('------------------------------------------------------------')\n",
        "        print('Sentiment:', sentiment)\n",
        "        time.sleep(1)\n",
        "        print('\\n\\n')"
      ]
    },
    {
      "cell_type": "code",
      "execution_count": null,
      "metadata": {
        "colab": {
          "base_uri": "https://localhost:8080/",
          "height": 1000
        },
        "id": "YtwI6x4P22Sa",
        "outputId": "6470acce-cfab-45cc-afa4-bbea61b677f3"
      },
      "outputs": [
        {
          "name": "stdout",
          "output_type": "stream",
          "text": [
            "What you wanna search \n",
            " 1. User timeline \n",
            " 2. Hashtag/Keyword search \n",
            " Enter either 1 or 2\n",
            "1\n",
            "Enter Twitter Handle you want to search for\n",
            "elonmusk\n",
            "Enter Date since The Tweets are required in yyyy-mm--dd\n",
            "2020-02-02\n"
          ]
        },
        {
          "output_type": "stream",
          "name": "stderr",
          "text": [
            "Unexpected parameter: id\n",
            "Unexpected parameter: lang\n",
            "Unexpected parameter: since\n"
          ]
        },
        {
          "output_type": "stream",
          "name": "stdout",
          "text": [
            "------------------------Tweet-------------------------------\n",
            "@thesheetztweetz Their attempt to bait and switch satellite spectrum for cellular spectrum is super shady and unethical. \n",
            "\n",
            "If they are successful, it would hurt the least served and completely unserved of the world. Very messed up.\n",
            "------------------------------------------------------------\n",
            "Sentiment: NEGATIVE\n",
            "\n",
            "\n",
            "\n",
            "------------------------Tweet-------------------------------\n",
            "@SawyerMerritt Hardly anyone knows this\n",
            "------------------------------------------------------------\n",
            "Sentiment: POSITIVE\n",
            "\n",
            "\n",
            "\n",
            "------------------------Tweet-------------------------------\n",
            "@alex_avoigt @WholeMarsBlog Probably only a few months\n",
            "------------------------------------------------------------\n",
            "Sentiment: NEGATIVE\n",
            "\n",
            "\n",
            "\n",
            "------------------------Tweet-------------------------------\n",
            "@business Twitter me &amp; real-life me are quite different haha! https://t.co/zedimZrthW\n",
            "------------------------------------------------------------\n",
            "Sentiment: NEGATIVE\n",
            "\n",
            "\n",
            "\n",
            "------------------------Tweet-------------------------------\n",
            "@BloombergLive @Twitter The vote of confidence is much appreciated\n",
            "------------------------------------------------------------\n",
            "Sentiment: POSITIVE\n",
            "\n",
            "\n",
            "\n",
            "2022-06-30 07:31:04,310 Warning: An empty Sentence was created! Are there empty strings in your dataset?\n"
          ]
        },
        {
          "output_type": "error",
          "ename": "IndexError",
          "evalue": "ignored",
          "traceback": [
            "\u001b[0;31m---------------------------------------------------------------------------\u001b[0m",
            "\u001b[0;31mIndexError\u001b[0m                                Traceback (most recent call last)",
            "\u001b[0;32m<ipython-input-12-0ff549e1f46f>\u001b[0m in \u001b[0;36m<module>\u001b[0;34m()\u001b[0m\n\u001b[1;32m      6\u001b[0m   \u001b[0mprint\u001b[0m\u001b[0;34m(\u001b[0m\u001b[0;34m\"Enter Date since The Tweets are required in yyyy-mm--dd\"\u001b[0m\u001b[0;34m)\u001b[0m\u001b[0;34m\u001b[0m\u001b[0;34m\u001b[0m\u001b[0m\n\u001b[1;32m      7\u001b[0m   \u001b[0mdate_since\u001b[0m \u001b[0;34m=\u001b[0m \u001b[0minput\u001b[0m\u001b[0;34m(\u001b[0m\u001b[0;34m)\u001b[0m\u001b[0;34m\u001b[0m\u001b[0;34m\u001b[0m\u001b[0m\n\u001b[0;32m----> 8\u001b[0;31m   \u001b[0mscrapeuser\u001b[0m\u001b[0;34m(\u001b[0m\u001b[0mwords\u001b[0m\u001b[0;34m,\u001b[0m \u001b[0mdate_since\u001b[0m\u001b[0;34m)\u001b[0m\u001b[0;34m\u001b[0m\u001b[0;34m\u001b[0m\u001b[0m\n\u001b[0m\u001b[1;32m      9\u001b[0m \u001b[0;34m\u001b[0m\u001b[0m\n\u001b[1;32m     10\u001b[0m \u001b[0;34m\u001b[0m\u001b[0m\n",
            "\u001b[0;32m<ipython-input-10-ab39bc6626b3>\u001b[0m in \u001b[0;36mscrapeuser\u001b[0;34m(words, date_since)\u001b[0m\n\u001b[1;32m      6\u001b[0m         \u001b[0moriginal_tweet\u001b[0m \u001b[0;34m=\u001b[0m \u001b[0mtweet\u001b[0m\u001b[0;34m.\u001b[0m\u001b[0mfull_text\u001b[0m\u001b[0;34m\u001b[0m\u001b[0;34m\u001b[0m\u001b[0m\n\u001b[1;32m      7\u001b[0m         \u001b[0mclean_tweet\u001b[0m \u001b[0;34m=\u001b[0m \u001b[0mpreprocess_text\u001b[0m\u001b[0;34m(\u001b[0m\u001b[0moriginal_tweet\u001b[0m\u001b[0;34m)\u001b[0m\u001b[0;34m\u001b[0m\u001b[0;34m\u001b[0m\u001b[0m\n\u001b[0;32m----> 8\u001b[0;31m         \u001b[0msentiment\u001b[0m \u001b[0;34m=\u001b[0m \u001b[0mget_sentiment\u001b[0m\u001b[0;34m(\u001b[0m\u001b[0mclean_tweet\u001b[0m\u001b[0;34m)\u001b[0m\u001b[0;34m\u001b[0m\u001b[0;34m\u001b[0m\u001b[0m\n\u001b[0m\u001b[1;32m      9\u001b[0m \u001b[0;34m\u001b[0m\u001b[0m\n\u001b[1;32m     10\u001b[0m         \u001b[0mprint\u001b[0m\u001b[0;34m(\u001b[0m\u001b[0;34m'------------------------Tweet-------------------------------'\u001b[0m\u001b[0;34m)\u001b[0m\u001b[0;34m\u001b[0m\u001b[0;34m\u001b[0m\u001b[0m\n",
            "\u001b[0;32m<ipython-input-8-561225020cd8>\u001b[0m in \u001b[0;36mget_sentiment\u001b[0;34m(tweet)\u001b[0m\n\u001b[1;32m     21\u001b[0m     \u001b[0msentence\u001b[0m \u001b[0;34m=\u001b[0m \u001b[0mSentence\u001b[0m\u001b[0;34m(\u001b[0m\u001b[0mtweet\u001b[0m\u001b[0;34m)\u001b[0m\u001b[0;34m\u001b[0m\u001b[0;34m\u001b[0m\u001b[0m\n\u001b[1;32m     22\u001b[0m     \u001b[0mclassifier\u001b[0m\u001b[0;34m.\u001b[0m\u001b[0mpredict\u001b[0m\u001b[0;34m(\u001b[0m\u001b[0msentence\u001b[0m\u001b[0;34m)\u001b[0m\u001b[0;34m\u001b[0m\u001b[0;34m\u001b[0m\u001b[0m\n\u001b[0;32m---> 23\u001b[0;31m     \u001b[0;32mreturn\u001b[0m \u001b[0mstr\u001b[0m\u001b[0;34m(\u001b[0m\u001b[0msentence\u001b[0m\u001b[0;34m.\u001b[0m\u001b[0mlabels\u001b[0m\u001b[0;34m)\u001b[0m\u001b[0;34m.\u001b[0m\u001b[0msplit\u001b[0m\u001b[0;34m(\u001b[0m\u001b[0;34m\"\\'\"\u001b[0m\u001b[0;34m)\u001b[0m\u001b[0;34m[\u001b[0m\u001b[0;36m3\u001b[0m\u001b[0;34m]\u001b[0m\u001b[0;34m\u001b[0m\u001b[0;34m\u001b[0m\u001b[0m\n\u001b[0m",
            "\u001b[0;31mIndexError\u001b[0m: list index out of range"
          ]
        }
      ],
      "source": [
        "print(\"What you wanna search \\n 1. User timeline \\n 2. Hashtag/Keyword search \\n Enter either 1 or 2\")\n",
        "choice = input()\n",
        "if choice == '1' :\n",
        "  print(\"Enter Twitter Handle you want to search for\")\n",
        "  words = input()\n",
        "  print(\"Enter Date since The Tweets are required in yyyy-mm--dd\")\n",
        "  date_since = input()\n",
        "  scrapeuser(words, date_since)\n",
        "  \n",
        "\n",
        "elif choice == '2':\n",
        "  print(\"Enter Twitter HashTag to search for\")\n",
        "  words = input()\n",
        "  print(\"Enter Date since The Tweets are required in yyyy-mm--dd\")\n",
        "  date_since = input()\n",
        "  scrape(words, date_since)"
      ]
    },
    {
      "cell_type": "code",
      "execution_count": null,
      "metadata": {
        "id": "XrSvhQa122Yh"
      },
      "outputs": [],
      "source": [
        ""
      ]
    },
    {
      "cell_type": "code",
      "execution_count": null,
      "metadata": {
        "id": "QmtpLrHMIrBm"
      },
      "outputs": [],
      "source": [
        "import pickle\n",
        "filename = 'savedmodel'\n",
        "pickle.dump(classifier, open(filename, 'wb'))"
      ]
    },
    {
      "cell_type": "code",
      "execution_count": null,
      "metadata": {
        "id": "UYQ8neDaIrIA"
      },
      "outputs": [],
      "source": [
        "load_model = pickle.load(open(filename,'rb'))"
      ]
    },
    {
      "cell_type": "code",
      "execution_count": null,
      "metadata": {
        "id": "pAKpm5Q8Jel6"
      },
      "outputs": [],
      "source": [
        "tweets = \"happy\"\n",
        "sentence = Sentence(tweets)\n",
        "\n",
        "load_model.predict(sentence)\n",
        "\n",
        "# load_model.predict(sentence)\n",
        "str(sentence.labels).split(\"\\'\")[3]\n"
      ]
    },
    {
      "cell_type": "code",
      "execution_count": null,
      "metadata": {
        "id": "62kBVn1phAMN"
      },
      "outputs": [],
      "source": [
        "import json\n",
        "import tweepy\n",
        "\n",
        "class MyStreamListener(tweepy.Stream):\n",
        "    def __init__(self, api):\n",
        "        self.api = api\n",
        "        self.get_user = api.get_user\n",
        "\n",
        "    def on_status(self, tweet):\n",
        "        print(f\"{tweet.user.name}:{tweet.text}\")\n",
        "\n",
        "    def on_error(self, status):\n",
        "        print(\"Error detected\")\n",
        "\n",
        "# Authenticate to Twitter\n",
        "\n",
        "auth = tweepy.OAuthHandler(consumer_key, consumer_secret)\n",
        "auth.set_access_token(access_token, access_token_secret)\n",
        "api = tweepy.API(auth)\n",
        "# auth = tweepy.OAuthHandler(\"consumer_key\", \"consumer_secret\")\n",
        "# auth.set_access_token(\"access_token\", \"access_token_secret\")\n",
        "\n",
        "# Create API object\n",
        "api = tweepy.API(auth, wait_on_rate_limit=True)\n",
        "# api = tweepy.API(auth, wait_on_rate_limit=True,\n",
        "#     wait_on_rate_limit_notify=True)\n",
        "\n",
        "tweets_listener = MyStreamListener(api)\n",
        "stream = tweepy.Stream(api.auth, tweets_listener)\n",
        "stream.filter(track=[\"Python\", \"Django\", \"Tweepy\"], languages=[\"en\"])"
      ]
    },
    {
      "cell_type": "code",
      "execution_count": null,
      "metadata": {
        "id": "2WcnodkTgf44"
      },
      "outputs": [],
      "source": [
        ""
      ]
    },
    {
      "cell_type": "code",
      "execution_count": null,
      "metadata": {
        "id": "UlXNdUD9gXKT"
      },
      "outputs": [],
      "source": [
        ""
      ]
    },
    {
      "cell_type": "code",
      "execution_count": null,
      "metadata": {
        "id": "pnfVapAjgWB2"
      },
      "outputs": [],
      "source": [
        ""
      ]
    }
  ],
  "metadata": {
    "colab": {
      "collapsed_sections": [],
      "name": "Flair test 1.ipynb",
      "provenance": []
    },
    "kernelspec": {
      "display_name": "Python 3",
      "name": "python3"
    },
    "language_info": {
      "name": "python"
    }
  },
  "nbformat": 4,
  "nbformat_minor": 0
}